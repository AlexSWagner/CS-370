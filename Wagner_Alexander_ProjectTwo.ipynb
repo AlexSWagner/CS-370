{
 "cells": [
  {
   "cell_type": "markdown",
   "metadata": {},
   "source": [
    "# Treasure Hunt Game Notebook\n",
    "\n",
    "## Read and Review Your Starter Code\n",
    "The theme of this project is a popular treasure hunt game in which the player needs to find the treasure before the pirate does. While you will not be developing the entire game, you will write the part of the game that represents the intelligent agent, which is a pirate in this case. The pirate will try to find the optimal path to the treasure using deep Q-learning. \n",
    "\n",
    "You have been provided with two Python classes and this notebook to help you with this assignment. The first class, TreasureMaze.py, represents the environment, which includes a maze object defined as a matrix. The second class, GameExperience.py, stores the episodes – that is, all the states that come in between the initial state and the terminal state. This is later used by the agent for learning by experience, called \"exploration\". This notebook shows how to play a game. Your task is to complete the deep Q-learning implementation for which a skeleton implementation has been provided. The code blocks you will need to complete has #TODO as a header.\n",
    "\n",
    "First, read and review the next few code and instruction blocks to understand the code that you have been given."
   ]
  },
  {
   "cell_type": "code",
   "execution_count": 1,
   "metadata": {},
   "outputs": [
    {
     "name": "stderr",
     "output_type": "stream",
     "text": [
      "Using TensorFlow backend.\n"
     ]
    }
   ],
   "source": [
    "from __future__ import print_function\n",
    "import os, sys, time, datetime, json, random\n",
    "import numpy as np\n",
    "from keras.models import Sequential\n",
    "from keras.layers.core import Dense, Activation\n",
    "from keras.optimizers import SGD , Adam, RMSprop\n",
    "from keras.layers.advanced_activations import PReLU\n",
    "import matplotlib.pyplot as plt\n",
    "from TreasureMaze import TreasureMaze\n",
    "from GameExperience import GameExperience\n",
    "%matplotlib inline"
   ]
  },
  {
   "cell_type": "markdown",
   "metadata": {},
   "source": [
    "The following code block contains an 8x8 matrix that will be used as a maze object:"
   ]
  },
  {
   "cell_type": "code",
   "execution_count": 2,
   "metadata": {},
   "outputs": [],
   "source": [
    "maze = np.array([\n",
    "    [ 1.,  0.,  1.,  1.,  1.,  1.,  1.,  1.],\n",
    "    [ 1.,  0.,  1.,  1.,  1.,  0.,  1.,  1.],\n",
    "    [ 1.,  1.,  1.,  1.,  0.,  1.,  0.,  1.],\n",
    "    [ 1.,  1.,  1.,  0.,  1.,  1.,  1.,  1.],\n",
    "    [ 1.,  1.,  0.,  1.,  1.,  1.,  1.,  1.],\n",
    "    [ 1.,  1.,  1.,  0.,  1.,  0.,  0.,  0.],\n",
    "    [ 1.,  1.,  1.,  0.,  1.,  1.,  1.,  1.],\n",
    "    [ 1.,  1.,  1.,  1.,  0.,  1.,  1.,  1.]\n",
    "])"
   ]
  },
  {
   "cell_type": "markdown",
   "metadata": {},
   "source": [
    "This helper function allows a visual representation of the maze object:"
   ]
  },
  {
   "cell_type": "code",
   "execution_count": 3,
   "metadata": {},
   "outputs": [],
   "source": [
    "def show(qmaze):\n",
    "    plt.grid('on')\n",
    "    nrows, ncols = qmaze.maze.shape\n",
    "    ax = plt.gca()\n",
    "    ax.set_xticks(np.arange(0.5, nrows, 1))\n",
    "    ax.set_yticks(np.arange(0.5, ncols, 1))\n",
    "    ax.set_xticklabels([])\n",
    "    ax.set_yticklabels([])\n",
    "    canvas = np.copy(qmaze.maze)\n",
    "    for row,col in qmaze.visited:\n",
    "        canvas[row,col] = 0.6\n",
    "    pirate_row, pirate_col, _ = qmaze.state\n",
    "    canvas[pirate_row, pirate_col] = 0.3   # pirate cell\n",
    "    canvas[nrows-1, ncols-1] = 0.9 # treasure cell\n",
    "    img = plt.imshow(canvas, interpolation='none', cmap='gray')\n",
    "    return img"
   ]
  },
  {
   "cell_type": "markdown",
   "metadata": {},
   "source": [
    "The pirate agent can move in four directions: left, right, up, and down. \n",
    "\n",
    "While the agent primarily learns by experience through exploitation, often, the agent can choose to explore the environment to find previously undiscovered paths. This is called \"exploration\" and is defined by epsilon. This value is typically a lower value such as 0.1, which means for every ten attempts, the agent will attempt to learn by experience nine times and will randomly explore a new path one time. You are encouraged to try various values for the exploration factor and see how the algorithm performs."
   ]
  },
  {
   "cell_type": "code",
   "execution_count": 4,
   "metadata": {},
   "outputs": [],
   "source": [
    "LEFT = 0\n",
    "UP = 1\n",
    "RIGHT = 2\n",
    "DOWN = 3\n",
    "\n",
    "\n",
    "# Exploration factor\n",
    "epsilon = 0.1\n",
    "\n",
    "# Actions dictionary\n",
    "actions_dict = {\n",
    "    LEFT: 'left',\n",
    "    UP: 'up',\n",
    "    RIGHT: 'right',\n",
    "    DOWN: 'down',\n",
    "}\n",
    "\n",
    "num_actions = len(actions_dict)\n"
   ]
  },
  {
   "cell_type": "markdown",
   "metadata": {},
   "source": [
    "The sample code block and output below show creating a maze object and performing one action (DOWN), which returns the reward. The resulting updated environment is visualized."
   ]
  },
  {
   "cell_type": "code",
   "execution_count": 5,
   "metadata": {},
   "outputs": [
    {
     "name": "stdout",
     "output_type": "stream",
     "text": [
      "reward= -0.04\n"
     ]
    },
    {
     "data": {
      "text/plain": [
       "<matplotlib.image.AxesImage at 0x195f9d63c88>"
      ]
     },
     "execution_count": 5,
     "metadata": {},
     "output_type": "execute_result"
    },
    {
     "data": {
      "image/png": "[encoded data removed]",
      "text/plain": [
       "<Figure size 432x288 with 1 Axes>"
      ]
     },
     "metadata": {
      "needs_background": "light"
     },
     "output_type": "display_data"
    }
   ],
   "source": [
    "qmaze = TreasureMaze(maze)\n",
    "canvas, reward, game_over = qmaze.act(DOWN)\n",
    "print(\"reward=\", reward)\n",
    "show(qmaze)"
   ]
  },
  {
   "cell_type": "markdown",
   "metadata": {},
   "source": [
    "This function simulates a full game based on the provided trained model. The other parameters include the TreasureMaze object and the starting position of the pirate."
   ]
  },
  {
   "cell_type": "code",
   "execution_count": 6,
   "metadata": {},
   "outputs": [],
   "source": [
    "def play_game(model, qmaze, pirate_cell):\n",
    "    qmaze.reset(pirate_cell)\n",
    "    envstate = qmaze.observe()\n",
    "    while True:\n",
    "        prev_envstate = envstate\n",
    "        # get next action\n",
    "        q = model.predict(prev_envstate)\n",
    "        action = np.argmax(q[0])\n",
    "\n",
    "        # apply action, get rewards and new state\n",
    "        envstate, reward, game_status = qmaze.act(action)\n",
    "        if game_status == 'win':\n",
    "            return True\n",
    "        elif game_status == 'lose':\n",
    "            return False"
   ]
  },
  {
   "cell_type": "markdown",
   "metadata": {},
   "source": [
    "This function helps you to determine whether the pirate can win any game at all. If your maze is not well designed, the pirate may not win any game at all. In this case, your training would not yield any result. The provided maze in this notebook ensures that there is a path to win and you can run this method to check."
   ]
  },
  {
   "cell_type": "code",
   "execution_count": 7,
   "metadata": {},
   "outputs": [],
   "source": [
    "def completion_check(model, qmaze):\n",
    "    for cell in qmaze.free_cells:\n",
    "        if not qmaze.valid_actions(cell):\n",
    "            return False\n",
    "        if not play_game(model, qmaze, cell):\n",
    "            return False\n",
    "    return True"
   ]
  },
  {
   "cell_type": "markdown",
   "metadata": {},
   "source": [
    "The code you have been given in this block will build the neural network model. Review the code and note the number of layers, as well as the activation, optimizer, and loss functions that are used to train the model."
   ]
  },
  {
   "cell_type": "code",
   "execution_count": 8,
   "metadata": {},
   "outputs": [],
   "source": [
    "def build_model(maze):\n",
    "    model = Sequential()\n",
    "    model.add(Dense(maze.size, input_shape=(maze.size,)))\n",
    "    model.add(PReLU())\n",
    "    model.add(Dense(maze.size))\n",
    "    model.add(PReLU())\n",
    "    model.add(Dense(num_actions))\n",
    "    model.compile(optimizer='adam', loss='mse')\n",
    "    return model"
   ]
  },
  {
   "cell_type": "markdown",
   "metadata": {},
   "source": [
    "# #TODO: Complete the Q-Training Algorithm Code Block\n",
    "\n",
    "This is your deep Q-learning implementation. The goal of your deep Q-learning implementation is to find the best possible navigation sequence that results in reaching the treasure cell while maximizing the reward. In your implementation, you need to determine the optimal number of epochs to achieve a 100% win rate.\n",
    "\n",
    "You will need to complete the section starting with #pseudocode. The pseudocode has been included for you."
   ]
  },
  {
   "cell_type": "code",
   "execution_count": null,
   "metadata": {},
   "outputs": [],
   "source": [
    "def qtrain(model, maze, **opt):\n",
    "    # exploration factor\n",
    "    global epsilon \n",
    "    epsilon = 1.0  # Start with full exploration\n",
    "\n",
    "    # Parameters for the training\n",
    "    n_epoch = opt.get('n_epoch', 1000)\n",
    "    max_memory = opt.get('max_memory', 8000)  \n",
    "    data_size = opt.get('data_size', 128)     # Increased batch size for stability\n",
    "\n",
    "    # start time\n",
    "    start_time = datetime.datetime.now()\n",
    "\n",
    "    # Construct environment/game from numpy array: maze\n",
    "    qmaze = TreasureMaze(maze)\n",
    "\n",
    "    # Initialize experience replay object\n",
    "    experience = GameExperience(model, max_memory=max_memory)\n",
    "    \n",
    "    win_history = []   # history of win/lose game\n",
    "    hsize = qmaze.maze.size//2   # history window size\n",
    "    win_rate = 0.0\n",
    "    \n",
    "    # Track episodes per epoch\n",
    "    episode_counts = []\n",
    "\n",
    "    for epoch in range(n_epoch):\n",
    "        loss = 0.0\n",
    "        n_episodes = 0\n",
    "\n",
    "        # Initialize episode with random starting position\n",
    "        agent_cell = random.choice(qmaze.free_cells)\n",
    "        qmaze.reset(agent_cell)\n",
    "        envstate = qmaze.observe()\n",
    "\n",
    "        # Game loop\n",
    "        while True:\n",
    "            prev_envstate = envstate\n",
    "            # Get next action\n",
    "            if np.random.rand() < epsilon:\n",
    "                action = random.choice(qmaze.valid_actions())\n",
    "            else:\n",
    "                q = model.predict(prev_envstate, verbose=0)\n",
    "                action = np.argmax(q[0])\n",
    "\n",
    "            # Apply action, get reward and new state\n",
    "            envstate, reward, game_status = qmaze.act(action)\n",
    "            \n",
    "            # Store experience\n",
    "            experience.remember([prev_envstate, action, reward, envstate, game_status != 'not_over'])\n",
    "            \n",
    "            n_episodes += 1\n",
    "\n",
    "            # Check if game is completed\n",
    "            if game_status != 'not_over':\n",
    "                win_history.append(game_status == 'win')\n",
    "                win_rate = sum(win_history[-hsize:]) / len(win_history[-hsize:])\n",
    "                episode_counts.append(n_episodes)\n",
    "                break\n",
    "\n",
    "        if len(experience.memory) > data_size:\n",
    "            # Use consistent number of training iterations\n",
    "            for _ in range(6):  # Steady 6 iterations\n",
    "                inputs, targets = experience.get_data(data_size=data_size)\n",
    "                model.fit(\n",
    "                    inputs,\n",
    "                    targets,\n",
    "                    epochs=8,          # Number of training epochs\n",
    "                    batch_size=64,     # Number of samples per gradient update\n",
    "                    verbose=0          # Suppress logging\n",
    "                )\n",
    "            loss = model.evaluate(inputs, targets, verbose=0)\n",
    "\n",
    "        # More gradual epsilon decay based on performance\n",
    "        if epsilon > 0.1:\n",
    "            if win_rate < 0.3:\n",
    "                epsilon -= (1.0 - 0.1) / (n_epoch)  # Very slow decay when performing poorly\n",
    "            else:\n",
    "                epsilon -= (1.0 - 0.1) / (n_epoch/2)  # Faster decay when doing better\n",
    "\n",
    "        # Show training progress\n",
    "        dt = datetime.datetime.now() - start_time\n",
    "        t = format_time(dt.total_seconds())\n",
    "        template = \"Epoch: {:03d}/{:d} | Loss: {:.4f} | Episodes: {:d} | Win count: {:d} | Win rate: {:.3f} | time: {}\"\n",
    "        print(template.format(epoch, n_epoch-1, loss, n_episodes, sum(win_history), win_rate, t))\n",
    "        \n",
    "        # Check for success criteria\n",
    "        if win_rate > 0.8:\n",
    "            epsilon = 0.1         # Reduce exploration when performing well\n",
    "        if sum(win_history[-hsize:]) == hsize and completion_check(model, qmaze):\n",
    "            print(\"Training completed at epoch:\", epoch)\n",
    "            \n",
    "            # Enhanced training summary\n",
    "            print(\"\\nTraining Summary:\")\n",
    "            print(\"Total Epochs:\", epoch + 1)\n",
    "            print(\"Final Win Rate: {:.1f}%\".format(win_rate * 100))\n",
    "            print(\"Total Wins:\", sum(win_history))\n",
    "            print(\"Win Rate Progression:\")\n",
    "            print(\"- First 25%: {:.1f}%\".format(100 * sum(win_history[:len(win_history)//4]) / (len(win_history)//4)))\n",
    "            print(\"- Last 25%: {:.1f}%\".format(100 * sum(win_history[-len(win_history)//4:]) / (len(win_history)//4)))\n",
    "            print(\"Average Episodes per Epoch: {:.1f}\".format(sum(episode_counts) / len(episode_counts)))\n",
    "            print(\"Final Loss: {:.4f}\".format(loss))\n",
    "            print(\"Final Epsilon: {:.3f}\".format(epsilon))\n",
    "            break\n",
    "\n",
    "    # Enhanced final statistics\n",
    "    dt = datetime.datetime.now() - start_time\n",
    "    seconds = dt.total_seconds()\n",
    "    t = format_time(seconds)\n",
    "    print(\"\\nFinal Training Statistics:\")\n",
    "    print(\"Epochs Completed: %d/%d\" % (epoch + 1, n_epoch))\n",
    "    print(\"Memory Size: %d\" % max_memory)\n",
    "    print(\"Batch Size: %d\" % data_size)\n",
    "    print(\"Training Time: %s\" % t)\n",
    "    print(\"Final Win Rate: {:.1f}%\".format(win_rate * 100))\n",
    "    print(\"Total Wins: %d\" % sum(win_history))\n",
    "    print(\"Average Episodes per Epoch: {:.1f}\".format(sum(episode_counts) / len(episode_counts)))\n",
    "    print(\"Final Loss: {:.4f}\".format(loss))\n",
    "    print(\"Final Epsilon: {:.3f}\".format(epsilon))\n",
    "    \n",
    "    return seconds\n",
    "\n",
    "# This is a small utility for printing readable time strings:\n",
    "def format_time(seconds):\n",
    "    if seconds < 400:\n",
    "        s = float(seconds)\n",
    "        return \"%.1f seconds\" % (s,)\n",
    "    elif seconds < 4000:\n",
    "        m = seconds / 60.0\n",
    "        return \"%.2f minutes\" % (m,)\n",
    "    else:\n",
    "        h = seconds / 3600.0\n",
    "        return \"%.2f hours\" % (h,)"
   ]
  },
  {
   "cell_type": "markdown",
   "metadata": {},
   "source": [
    "## Test Your Model\n",
    "\n",
    "Now we will start testing the deep Q-learning implementation. To begin, select **Cell**, then **Run All** from the menu bar. This will run your notebook. As it runs, you should see output begin to appear beneath the next few cells. The code below creates an instance of TreasureMaze."
   ]
  },
  {
   "cell_type": "code",
   "execution_count": 10,
   "metadata": {},
   "outputs": [
    {
     "data": {
      "text/plain": [
       "<matplotlib.image.AxesImage at 0x195fadf69c8>"
      ]
     },
     "execution_count": 10,
     "metadata": {},
     "output_type": "execute_result"
    },
    {
     "data": {
      "image/png": "[encoded data removed]",
      "text/plain": [
       "<Figure size 432x288 with 1 Axes>"
      ]
     },
     "metadata": {
      "needs_background": "light"
     },
     "output_type": "display_data"
    }
   ],
   "source": [
    "qmaze = TreasureMaze(maze)\n",
    "show(qmaze)"
   ]
  },
  {
   "cell_type": "markdown",
   "metadata": {},
   "source": [
    "In the next code block, you will build your model and train it using deep Q-learning. Note: This step takes several minutes to fully run."
   ]
  },
  {
   "cell_type": "code",
   "execution_count": 11,
   "metadata": {},
   "outputs": [
    {
     "name": "stdout",
     "output_type": "stream",
     "text": [
      "Epoch: 000/999 | Loss: 0.0052 | Episodes: 148 | Win count: 0 | Win rate: 0.000 | time: 4.3 seconds\n",
      "Epoch: 001/999 | Loss: 0.0050 | Episodes: 160 | Win count: 0 | Win rate: 0.000 | time: 6.5 seconds\n",
      "Epoch: 002/999 | Loss: 0.0041 | Episodes: 147 | Win count: 0 | Win rate: 0.000 | time: 8.7 seconds\n",
      "Epoch: 003/999 | Loss: 0.0045 | Episodes: 20 | Win count: 1 | Win rate: 0.250 | time: 10.7 seconds\n",
      "Epoch: 004/999 | Loss: 0.0095 | Episodes: 5 | Win count: 2 | Win rate: 0.400 | time: 12.8 seconds\n",
      "Epoch: 005/999 | Loss: 0.0109 | Episodes: 64 | Win count: 3 | Win rate: 0.500 | time: 14.9 seconds\n",
      "Epoch: 006/999 | Loss: 0.0132 | Episodes: 145 | Win count: 3 | Win rate: 0.429 | time: 17.1 seconds\n",
      "Epoch: 007/999 | Loss: 0.0114 | Episodes: 82 | Win count: 4 | Win rate: 0.500 | time: 20.1 seconds\n",
      "Epoch: 008/999 | Loss: 0.0045 | Episodes: 148 | Win count: 4 | Win rate: 0.444 | time: 22.9 seconds\n",
      "Epoch: 009/999 | Loss: 0.0068 | Episodes: 58 | Win count: 5 | Win rate: 0.500 | time: 24.9 seconds\n",
      "Epoch: 010/999 | Loss: 0.0042 | Episodes: 147 | Win count: 5 | Win rate: 0.455 | time: 27.0 seconds\n",
      "Epoch: 011/999 | Loss: 0.0029 | Episodes: 14 | Win count: 6 | Win rate: 0.500 | time: 29.1 seconds\n",
      "Epoch: 012/999 | Loss: 0.0128 | Episodes: 121 | Win count: 7 | Win rate: 0.538 | time: 31.3 seconds\n",
      "Epoch: 013/999 | Loss: 0.0110 | Episodes: 47 | Win count: 8 | Win rate: 0.571 | time: 33.7 seconds\n",
      "Epoch: 014/999 | Loss: 0.0069 | Episodes: 148 | Win count: 8 | Win rate: 0.533 | time: 35.8 seconds\n",
      "Epoch: 015/999 | Loss: 0.0117 | Episodes: 145 | Win count: 8 | Win rate: 0.500 | time: 38.0 seconds\n",
      "Epoch: 016/999 | Loss: 0.0150 | Episodes: 148 | Win count: 8 | Win rate: 0.471 | time: 39.9 seconds\n",
      "Epoch: 017/999 | Loss: 0.0070 | Episodes: 143 | Win count: 8 | Win rate: 0.444 | time: 42.0 seconds\n",
      "Epoch: 018/999 | Loss: 0.0057 | Episodes: 95 | Win count: 9 | Win rate: 0.474 | time: 44.0 seconds\n",
      "Epoch: 019/999 | Loss: 0.0086 | Episodes: 32 | Win count: 10 | Win rate: 0.500 | time: 46.0 seconds\n",
      "Epoch: 020/999 | Loss: 0.0122 | Episodes: 14 | Win count: 11 | Win rate: 0.524 | time: 48.1 seconds\n",
      "Epoch: 021/999 | Loss: 0.0129 | Episodes: 143 | Win count: 11 | Win rate: 0.500 | time: 50.3 seconds\n",
      "Epoch: 022/999 | Loss: 0.0125 | Episodes: 149 | Win count: 11 | Win rate: 0.478 | time: 52.3 seconds\n",
      "Epoch: 023/999 | Loss: 0.0091 | Episodes: 153 | Win count: 11 | Win rate: 0.458 | time: 54.4 seconds\n",
      "Epoch: 024/999 | Loss: 0.0035 | Episodes: 144 | Win count: 11 | Win rate: 0.440 | time: 56.4 seconds\n",
      "Epoch: 025/999 | Loss: 0.0039 | Episodes: 153 | Win count: 11 | Win rate: 0.423 | time: 58.4 seconds\n",
      "Epoch: 026/999 | Loss: 0.0040 | Episodes: 148 | Win count: 11 | Win rate: 0.407 | time: 60.5 seconds\n",
      "Epoch: 027/999 | Loss: 0.0104 | Episodes: 148 | Win count: 11 | Win rate: 0.393 | time: 62.8 seconds\n",
      "Epoch: 028/999 | Loss: 0.0059 | Episodes: 144 | Win count: 11 | Win rate: 0.379 | time: 64.8 seconds\n",
      "Epoch: 029/999 | Loss: 0.0050 | Episodes: 147 | Win count: 11 | Win rate: 0.367 | time: 66.9 seconds\n",
      "Epoch: 030/999 | Loss: 0.0031 | Episodes: 154 | Win count: 11 | Win rate: 0.355 | time: 69.1 seconds\n",
      "Epoch: 031/999 | Loss: 0.0065 | Episodes: 142 | Win count: 11 | Win rate: 0.344 | time: 71.1 seconds\n",
      "Epoch: 032/999 | Loss: 0.0037 | Episodes: 158 | Win count: 11 | Win rate: 0.344 | time: 73.2 seconds\n",
      "Epoch: 033/999 | Loss: 0.0063 | Episodes: 19 | Win count: 12 | Win rate: 0.375 | time: 75.3 seconds\n",
      "Epoch: 034/999 | Loss: 0.0055 | Episodes: 46 | Win count: 13 | Win rate: 0.406 | time: 77.4 seconds\n",
      "Epoch: 035/999 | Loss: 0.0088 | Episodes: 151 | Win count: 13 | Win rate: 0.375 | time: 79.6 seconds\n",
      "Epoch: 036/999 | Loss: 0.0073 | Episodes: 148 | Win count: 13 | Win rate: 0.344 | time: 81.7 seconds\n",
      "Epoch: 037/999 | Loss: 0.0029 | Episodes: 151 | Win count: 13 | Win rate: 0.312 | time: 83.7 seconds\n",
      "Epoch: 038/999 | Loss: 0.0345 | Episodes: 152 | Win count: 13 | Win rate: 0.312 | time: 85.7 seconds\n",
      "Epoch: 039/999 | Loss: 0.0072 | Episodes: 148 | Win count: 13 | Win rate: 0.281 | time: 87.7 seconds\n",
      "Epoch: 040/999 | Loss: 0.0097 | Episodes: 149 | Win count: 13 | Win rate: 0.281 | time: 89.7 seconds\n",
      "Epoch: 041/999 | Loss: 0.0120 | Episodes: 146 | Win count: 13 | Win rate: 0.250 | time: 91.9 seconds\n",
      "Epoch: 042/999 | Loss: 0.0044 | Episodes: 145 | Win count: 13 | Win rate: 0.250 | time: 94.1 seconds\n",
      "Epoch: 043/999 | Loss: 0.0091 | Episodes: 150 | Win count: 13 | Win rate: 0.219 | time: 96.2 seconds\n",
      "Epoch: 044/999 | Loss: 0.0087 | Episodes: 149 | Win count: 13 | Win rate: 0.188 | time: 98.3 seconds\n",
      "Epoch: 045/999 | Loss: 0.0102 | Episodes: 2 | Win count: 14 | Win rate: 0.188 | time: 100.4 seconds\n",
      "Epoch: 046/999 | Loss: 0.0101 | Episodes: 151 | Win count: 14 | Win rate: 0.188 | time: 102.4 seconds\n",
      "Epoch: 047/999 | Loss: 0.0070 | Episodes: 127 | Win count: 15 | Win rate: 0.219 | time: 104.4 seconds\n",
      "Epoch: 048/999 | Loss: 0.0041 | Episodes: 147 | Win count: 15 | Win rate: 0.219 | time: 106.5 seconds\n",
      "Epoch: 049/999 | Loss: 0.0112 | Episodes: 152 | Win count: 15 | Win rate: 0.219 | time: 108.7 seconds\n",
      "Epoch: 050/999 | Loss: 0.0035 | Episodes: 145 | Win count: 15 | Win rate: 0.188 | time: 111.0 seconds\n",
      "Epoch: 051/999 | Loss: 0.0064 | Episodes: 147 | Win count: 15 | Win rate: 0.156 | time: 113.2 seconds\n",
      "Epoch: 052/999 | Loss: 0.0030 | Episodes: 149 | Win count: 15 | Win rate: 0.125 | time: 115.5 seconds\n",
      "Epoch: 053/999 | Loss: 0.0057 | Episodes: 139 | Win count: 15 | Win rate: 0.125 | time: 117.7 seconds\n",
      "Epoch: 054/999 | Loss: 0.0079 | Episodes: 152 | Win count: 15 | Win rate: 0.125 | time: 119.6 seconds\n",
      "Epoch: 055/999 | Loss: 0.0045 | Episodes: 75 | Win count: 16 | Win rate: 0.156 | time: 121.6 seconds\n",
      "Epoch: 056/999 | Loss: 0.0054 | Episodes: 138 | Win count: 16 | Win rate: 0.156 | time: 123.8 seconds\n",
      "Epoch: 057/999 | Loss: 0.0059 | Episodes: 144 | Win count: 16 | Win rate: 0.156 | time: 125.8 seconds\n",
      "Epoch: 058/999 | Loss: 0.0064 | Episodes: 144 | Win count: 16 | Win rate: 0.156 | time: 127.7 seconds\n",
      "Epoch: 059/999 | Loss: 0.0048 | Episodes: 145 | Win count: 16 | Win rate: 0.156 | time: 129.8 seconds\n",
      "Epoch: 060/999 | Loss: 0.0031 | Episodes: 1 | Win count: 17 | Win rate: 0.188 | time: 131.8 seconds\n",
      "Epoch: 061/999 | Loss: 0.0040 | Episodes: 148 | Win count: 17 | Win rate: 0.188 | time: 134.0 seconds\n",
      "Epoch: 062/999 | Loss: 0.0044 | Episodes: 140 | Win count: 17 | Win rate: 0.188 | time: 136.1 seconds\n",
      "Epoch: 063/999 | Loss: 0.0036 | Episodes: 138 | Win count: 17 | Win rate: 0.188 | time: 138.4 seconds\n",
      "Epoch: 064/999 | Loss: 0.0051 | Episodes: 54 | Win count: 18 | Win rate: 0.219 | time: 140.3 seconds\n",
      "Epoch: 065/999 | Loss: 0.0030 | Episodes: 142 | Win count: 18 | Win rate: 0.188 | time: 143.1 seconds\n",
      "Epoch: 066/999 | Loss: 0.0034 | Episodes: 144 | Win count: 18 | Win rate: 0.156 | time: 145.3 seconds\n",
      "Epoch: 067/999 | Loss: 0.0045 | Episodes: 149 | Win count: 18 | Win rate: 0.156 | time: 147.5 seconds\n",
      "Epoch: 068/999 | Loss: 0.0045 | Episodes: 143 | Win count: 18 | Win rate: 0.156 | time: 149.7 seconds\n",
      "Epoch: 069/999 | Loss: 0.0072 | Episodes: 32 | Win count: 19 | Win rate: 0.188 | time: 152.2 seconds\n",
      "Epoch: 070/999 | Loss: 0.0070 | Episodes: 140 | Win count: 19 | Win rate: 0.188 | time: 154.5 seconds\n",
      "Epoch: 071/999 | Loss: 0.0072 | Episodes: 153 | Win count: 19 | Win rate: 0.188 | time: 156.5 seconds\n",
      "Epoch: 072/999 | Loss: 0.0063 | Episodes: 150 | Win count: 19 | Win rate: 0.188 | time: 158.7 seconds\n",
      "Epoch: 073/999 | Loss: 0.0053 | Episodes: 150 | Win count: 19 | Win rate: 0.188 | time: 161.9 seconds\n",
      "Epoch: 074/999 | Loss: 0.0124 | Episodes: 96 | Win count: 20 | Win rate: 0.219 | time: 164.9 seconds\n",
      "Epoch: 075/999 | Loss: 0.0027 | Episodes: 83 | Win count: 21 | Win rate: 0.250 | time: 168.7 seconds\n",
      "Epoch: 076/999 | Loss: 0.0069 | Episodes: 139 | Win count: 21 | Win rate: 0.250 | time: 172.6 seconds\n",
      "Epoch: 077/999 | Loss: 0.0076 | Episodes: 148 | Win count: 21 | Win rate: 0.219 | time: 176.1 seconds\n",
      "Epoch: 078/999 | Loss: 0.0042 | Episodes: 144 | Win count: 21 | Win rate: 0.219 | time: 179.8 seconds\n",
      "Epoch: 079/999 | Loss: 0.0077 | Episodes: 160 | Win count: 21 | Win rate: 0.188 | time: 183.3 seconds\n",
      "Epoch: 080/999 | Loss: 0.0057 | Episodes: 12 | Win count: 22 | Win rate: 0.219 | time: 187.3 seconds\n",
      "Epoch: 081/999 | Loss: 0.0121 | Episodes: 152 | Win count: 22 | Win rate: 0.219 | time: 191.0 seconds\n"
     ]
    },
    {
     "name": "stdout",
     "output_type": "stream",
     "text": [
      "Epoch: 082/999 | Loss: 0.0020 | Episodes: 154 | Win count: 22 | Win rate: 0.219 | time: 194.8 seconds\n",
      "Epoch: 083/999 | Loss: 0.0061 | Episodes: 147 | Win count: 22 | Win rate: 0.219 | time: 198.7 seconds\n",
      "Epoch: 084/999 | Loss: 0.0030 | Episodes: 151 | Win count: 22 | Win rate: 0.219 | time: 202.3 seconds\n",
      "Epoch: 085/999 | Loss: 0.0056 | Episodes: 142 | Win count: 22 | Win rate: 0.219 | time: 206.0 seconds\n",
      "Epoch: 086/999 | Loss: 0.0028 | Episodes: 158 | Win count: 22 | Win rate: 0.219 | time: 209.4 seconds\n",
      "Epoch: 087/999 | Loss: 0.0026 | Episodes: 144 | Win count: 22 | Win rate: 0.188 | time: 213.0 seconds\n",
      "Epoch: 088/999 | Loss: 0.0117 | Episodes: 150 | Win count: 22 | Win rate: 0.188 | time: 216.6 seconds\n",
      "Epoch: 089/999 | Loss: 0.0237 | Episodes: 104 | Win count: 23 | Win rate: 0.219 | time: 219.4 seconds\n",
      "Epoch: 090/999 | Loss: 0.0054 | Episodes: 143 | Win count: 23 | Win rate: 0.219 | time: 221.7 seconds\n",
      "Epoch: 091/999 | Loss: 0.0069 | Episodes: 144 | Win count: 23 | Win rate: 0.219 | time: 224.9 seconds\n",
      "Epoch: 092/999 | Loss: 0.0026 | Episodes: 147 | Win count: 23 | Win rate: 0.188 | time: 227.6 seconds\n",
      "Epoch: 093/999 | Loss: 0.0026 | Episodes: 150 | Win count: 23 | Win rate: 0.188 | time: 230.2 seconds\n",
      "Epoch: 094/999 | Loss: 0.0096 | Episodes: 144 | Win count: 23 | Win rate: 0.188 | time: 232.6 seconds\n",
      "Epoch: 095/999 | Loss: 0.0024 | Episodes: 49 | Win count: 24 | Win rate: 0.219 | time: 234.9 seconds\n",
      "Epoch: 096/999 | Loss: 0.0023 | Episodes: 143 | Win count: 24 | Win rate: 0.188 | time: 238.5 seconds\n",
      "Epoch: 097/999 | Loss: 0.0080 | Episodes: 29 | Win count: 25 | Win rate: 0.219 | time: 241.2 seconds\n",
      "Epoch: 098/999 | Loss: 0.0079 | Episodes: 11 | Win count: 26 | Win rate: 0.250 | time: 243.8 seconds\n",
      "Epoch: 099/999 | Loss: 0.0221 | Episodes: 21 | Win count: 27 | Win rate: 0.281 | time: 246.2 seconds\n",
      "Epoch: 100/999 | Loss: 0.0153 | Episodes: 144 | Win count: 27 | Win rate: 0.281 | time: 248.4 seconds\n",
      "Epoch: 101/999 | Loss: 0.0170 | Episodes: 148 | Win count: 27 | Win rate: 0.250 | time: 250.6 seconds\n",
      "Epoch: 102/999 | Loss: 0.0026 | Episodes: 46 | Win count: 28 | Win rate: 0.281 | time: 252.8 seconds\n",
      "Epoch: 103/999 | Loss: 0.0049 | Episodes: 149 | Win count: 28 | Win rate: 0.281 | time: 254.9 seconds\n",
      "Epoch: 104/999 | Loss: 0.0400 | Episodes: 51 | Win count: 29 | Win rate: 0.312 | time: 257.2 seconds\n",
      "Epoch: 105/999 | Loss: 0.0112 | Episodes: 8 | Win count: 30 | Win rate: 0.344 | time: 259.9 seconds\n",
      "Epoch: 106/999 | Loss: 0.0106 | Episodes: 2 | Win count: 31 | Win rate: 0.344 | time: 262.7 seconds\n",
      "Epoch: 107/999 | Loss: 0.0232 | Episodes: 150 | Win count: 31 | Win rate: 0.312 | time: 264.8 seconds\n",
      "Epoch: 108/999 | Loss: 0.0067 | Episodes: 158 | Win count: 31 | Win rate: 0.312 | time: 267.1 seconds\n",
      "Epoch: 109/999 | Loss: 0.0034 | Episodes: 146 | Win count: 31 | Win rate: 0.312 | time: 269.2 seconds\n",
      "Epoch: 110/999 | Loss: 0.0063 | Episodes: 15 | Win count: 32 | Win rate: 0.344 | time: 271.3 seconds\n",
      "Epoch: 111/999 | Loss: 0.0087 | Episodes: 42 | Win count: 33 | Win rate: 0.375 | time: 273.2 seconds\n",
      "Epoch: 112/999 | Loss: 0.0076 | Episodes: 68 | Win count: 34 | Win rate: 0.375 | time: 275.2 seconds\n",
      "Epoch: 113/999 | Loss: 0.0087 | Episodes: 154 | Win count: 35 | Win rate: 0.406 | time: 277.2 seconds\n",
      "Epoch: 114/999 | Loss: 0.0038 | Episodes: 142 | Win count: 35 | Win rate: 0.406 | time: 279.4 seconds\n",
      "Epoch: 115/999 | Loss: 0.0113 | Episodes: 27 | Win count: 36 | Win rate: 0.438 | time: 281.6 seconds\n",
      "Epoch: 116/999 | Loss: 0.0042 | Episodes: 107 | Win count: 37 | Win rate: 0.469 | time: 283.6 seconds\n",
      "Epoch: 117/999 | Loss: 0.0061 | Episodes: 8 | Win count: 38 | Win rate: 0.500 | time: 285.6 seconds\n",
      "Epoch: 118/999 | Loss: 0.0044 | Episodes: 104 | Win count: 39 | Win rate: 0.531 | time: 287.7 seconds\n",
      "Epoch: 119/999 | Loss: 0.0055 | Episodes: 142 | Win count: 39 | Win rate: 0.531 | time: 289.9 seconds\n",
      "Epoch: 120/999 | Loss: 0.0094 | Episodes: 14 | Win count: 40 | Win rate: 0.562 | time: 292.3 seconds\n",
      "Epoch: 121/999 | Loss: 0.0116 | Episodes: 150 | Win count: 40 | Win rate: 0.531 | time: 294.6 seconds\n",
      "Epoch: 122/999 | Loss: 0.0040 | Episodes: 150 | Win count: 40 | Win rate: 0.531 | time: 296.6 seconds\n",
      "Epoch: 123/999 | Loss: 0.0071 | Episodes: 125 | Win count: 41 | Win rate: 0.562 | time: 298.6 seconds\n",
      "Epoch: 124/999 | Loss: 0.0030 | Episodes: 160 | Win count: 41 | Win rate: 0.562 | time: 300.5 seconds\n",
      "Epoch: 125/999 | Loss: 0.0034 | Episodes: 156 | Win count: 41 | Win rate: 0.562 | time: 302.4 seconds\n",
      "Epoch: 126/999 | Loss: 0.0037 | Episodes: 47 | Win count: 42 | Win rate: 0.594 | time: 304.5 seconds\n",
      "Epoch: 127/999 | Loss: 0.0090 | Episodes: 136 | Win count: 42 | Win rate: 0.562 | time: 306.5 seconds\n",
      "Epoch: 128/999 | Loss: 0.0085 | Episodes: 141 | Win count: 42 | Win rate: 0.562 | time: 308.6 seconds\n",
      "Epoch: 129/999 | Loss: 0.0036 | Episodes: 142 | Win count: 42 | Win rate: 0.531 | time: 310.6 seconds\n",
      "Epoch: 130/999 | Loss: 0.0127 | Episodes: 42 | Win count: 43 | Win rate: 0.531 | time: 312.6 seconds\n",
      "Epoch: 131/999 | Loss: 0.0552 | Episodes: 149 | Win count: 43 | Win rate: 0.500 | time: 314.6 seconds\n",
      "Epoch: 132/999 | Loss: 0.0028 | Episodes: 4 | Win count: 44 | Win rate: 0.531 | time: 316.7 seconds\n",
      "Epoch: 133/999 | Loss: 0.0091 | Episodes: 139 | Win count: 44 | Win rate: 0.531 | time: 318.8 seconds\n",
      "Epoch: 134/999 | Loss: 0.0083 | Episodes: 149 | Win count: 44 | Win rate: 0.500 | time: 320.9 seconds\n",
      "Epoch: 135/999 | Loss: 0.0164 | Episodes: 18 | Win count: 45 | Win rate: 0.531 | time: 323.0 seconds\n",
      "Epoch: 136/999 | Loss: 0.0058 | Episodes: 155 | Win count: 45 | Win rate: 0.500 | time: 325.1 seconds\n",
      "Epoch: 137/999 | Loss: 0.0121 | Episodes: 149 | Win count: 45 | Win rate: 0.469 | time: 327.1 seconds\n",
      "Epoch: 138/999 | Loss: 0.0031 | Episodes: 72 | Win count: 46 | Win rate: 0.469 | time: 329.1 seconds\n",
      "Epoch: 139/999 | Loss: 0.0034 | Episodes: 25 | Win count: 47 | Win rate: 0.500 | time: 331.2 seconds\n",
      "Epoch: 140/999 | Loss: 0.0111 | Episodes: 37 | Win count: 48 | Win rate: 0.531 | time: 333.2 seconds\n",
      "Epoch: 141/999 | Loss: 0.0081 | Episodes: 143 | Win count: 48 | Win rate: 0.531 | time: 335.3 seconds\n",
      "Epoch: 142/999 | Loss: 0.0023 | Episodes: 146 | Win count: 48 | Win rate: 0.500 | time: 337.2 seconds\n",
      "Epoch: 143/999 | Loss: 0.0020 | Episodes: 47 | Win count: 49 | Win rate: 0.500 | time: 339.3 seconds\n",
      "Epoch: 144/999 | Loss: 0.0034 | Episodes: 69 | Win count: 50 | Win rate: 0.500 | time: 341.3 seconds\n",
      "Epoch: 145/999 | Loss: 0.0244 | Episodes: 91 | Win count: 51 | Win rate: 0.500 | time: 343.3 seconds\n",
      "Epoch: 146/999 | Loss: 0.0053 | Episodes: 25 | Win count: 52 | Win rate: 0.531 | time: 345.3 seconds\n",
      "Epoch: 147/999 | Loss: 0.0041 | Episodes: 81 | Win count: 53 | Win rate: 0.531 | time: 347.4 seconds\n",
      "Epoch: 148/999 | Loss: 0.0032 | Episodes: 1 | Win count: 54 | Win rate: 0.531 | time: 349.3 seconds\n",
      "Epoch: 149/999 | Loss: 0.0142 | Episodes: 56 | Win count: 55 | Win rate: 0.531 | time: 351.3 seconds\n",
      "Epoch: 150/999 | Loss: 0.0046 | Episodes: 162 | Win count: 55 | Win rate: 0.500 | time: 353.3 seconds\n",
      "Epoch: 151/999 | Loss: 0.0139 | Episodes: 61 | Win count: 56 | Win rate: 0.531 | time: 355.3 seconds\n",
      "Epoch: 152/999 | Loss: 0.0140 | Episodes: 138 | Win count: 56 | Win rate: 0.500 | time: 357.3 seconds\n",
      "Epoch: 153/999 | Loss: 0.0039 | Episodes: 147 | Win count: 56 | Win rate: 0.500 | time: 359.4 seconds\n",
      "Epoch: 154/999 | Loss: 0.0037 | Episodes: 49 | Win count: 57 | Win rate: 0.531 | time: 361.5 seconds\n",
      "Epoch: 155/999 | Loss: 0.0052 | Episodes: 147 | Win count: 57 | Win rate: 0.500 | time: 363.6 seconds\n",
      "Epoch: 156/999 | Loss: 0.0050 | Episodes: 155 | Win count: 57 | Win rate: 0.500 | time: 365.7 seconds\n",
      "Epoch: 157/999 | Loss: 0.0113 | Episodes: 56 | Win count: 58 | Win rate: 0.531 | time: 367.7 seconds\n",
      "Epoch: 158/999 | Loss: 0.0048 | Episodes: 55 | Win count: 59 | Win rate: 0.531 | time: 369.8 seconds\n",
      "Epoch: 159/999 | Loss: 0.0137 | Episodes: 19 | Win count: 60 | Win rate: 0.562 | time: 371.7 seconds\n",
      "Epoch: 160/999 | Loss: 0.0058 | Episodes: 15 | Win count: 61 | Win rate: 0.594 | time: 373.8 seconds\n",
      "Epoch: 161/999 | Loss: 0.0147 | Episodes: 47 | Win count: 62 | Win rate: 0.625 | time: 375.8 seconds\n",
      "Epoch: 162/999 | Loss: 0.0194 | Episodes: 152 | Win count: 62 | Win rate: 0.594 | time: 377.8 seconds\n"
     ]
    },
    {
     "name": "stdout",
     "output_type": "stream",
     "text": [
      "Epoch: 163/999 | Loss: 0.0150 | Episodes: 12 | Win count: 63 | Win rate: 0.625 | time: 379.8 seconds\n",
      "Epoch: 164/999 | Loss: 0.0254 | Episodes: 27 | Win count: 64 | Win rate: 0.625 | time: 382.1 seconds\n",
      "Epoch: 165/999 | Loss: 0.0276 | Episodes: 6 | Win count: 65 | Win rate: 0.656 | time: 384.1 seconds\n",
      "Epoch: 166/999 | Loss: 0.0052 | Episodes: 141 | Win count: 65 | Win rate: 0.656 | time: 386.1 seconds\n",
      "Epoch: 167/999 | Loss: 0.0063 | Episodes: 2 | Win count: 66 | Win rate: 0.656 | time: 388.1 seconds\n",
      "Epoch: 168/999 | Loss: 0.0105 | Episodes: 144 | Win count: 66 | Win rate: 0.656 | time: 390.1 seconds\n",
      "Epoch: 169/999 | Loss: 0.0122 | Episodes: 137 | Win count: 66 | Win rate: 0.656 | time: 391.9 seconds\n",
      "Epoch: 170/999 | Loss: 0.0067 | Episodes: 24 | Win count: 67 | Win rate: 0.656 | time: 393.9 seconds\n",
      "Epoch: 171/999 | Loss: 0.0113 | Episodes: 27 | Win count: 68 | Win rate: 0.656 | time: 395.8 seconds\n",
      "Epoch: 172/999 | Loss: 0.0620 | Episodes: 150 | Win count: 68 | Win rate: 0.625 | time: 398.0 seconds\n",
      "Epoch: 173/999 | Loss: 0.0038 | Episodes: 12 | Win count: 69 | Win rate: 0.656 | time: 6.67 minutes\n",
      "Epoch: 174/999 | Loss: 0.0035 | Episodes: 1 | Win count: 70 | Win rate: 0.688 | time: 6.70 minutes\n",
      "Epoch: 175/999 | Loss: 0.0544 | Episodes: 53 | Win count: 71 | Win rate: 0.688 | time: 6.74 minutes\n",
      "Epoch: 176/999 | Loss: 0.0081 | Episodes: 153 | Win count: 71 | Win rate: 0.656 | time: 6.78 minutes\n",
      "Epoch: 177/999 | Loss: 0.0067 | Episodes: 58 | Win count: 72 | Win rate: 0.656 | time: 6.82 minutes\n",
      "Epoch: 178/999 | Loss: 0.0172 | Episodes: 3 | Win count: 73 | Win rate: 0.656 | time: 6.86 minutes\n",
      "Epoch: 179/999 | Loss: 0.0034 | Episodes: 62 | Win count: 74 | Win rate: 0.656 | time: 6.92 minutes\n",
      "Epoch: 180/999 | Loss: 0.0055 | Episodes: 143 | Win count: 74 | Win rate: 0.625 | time: 6.98 minutes\n",
      "Epoch: 181/999 | Loss: 0.0097 | Episodes: 68 | Win count: 75 | Win rate: 0.625 | time: 7.04 minutes\n",
      "Epoch: 182/999 | Loss: 0.0066 | Episodes: 141 | Win count: 75 | Win rate: 0.625 | time: 7.10 minutes\n",
      "Epoch: 183/999 | Loss: 0.0037 | Episodes: 7 | Win count: 76 | Win rate: 0.625 | time: 7.16 minutes\n",
      "Epoch: 184/999 | Loss: 0.0103 | Episodes: 65 | Win count: 77 | Win rate: 0.656 | time: 7.22 minutes\n",
      "Epoch: 185/999 | Loss: 0.0200 | Episodes: 41 | Win count: 78 | Win rate: 0.688 | time: 7.28 minutes\n",
      "Epoch: 186/999 | Loss: 0.0043 | Episodes: 150 | Win count: 78 | Win rate: 0.656 | time: 7.34 minutes\n",
      "Epoch: 187/999 | Loss: 0.0026 | Episodes: 34 | Win count: 79 | Win rate: 0.688 | time: 7.40 minutes\n",
      "Epoch: 188/999 | Loss: 0.0157 | Episodes: 26 | Win count: 80 | Win rate: 0.719 | time: 7.46 minutes\n",
      "Epoch: 189/999 | Loss: 0.0153 | Episodes: 38 | Win count: 81 | Win rate: 0.719 | time: 7.52 minutes\n",
      "Epoch: 190/999 | Loss: 0.0043 | Episodes: 1 | Win count: 82 | Win rate: 0.719 | time: 7.58 minutes\n",
      "Epoch: 191/999 | Loss: 0.0031 | Episodes: 72 | Win count: 83 | Win rate: 0.719 | time: 7.64 minutes\n",
      "Epoch: 192/999 | Loss: 0.0101 | Episodes: 37 | Win count: 84 | Win rate: 0.719 | time: 7.70 minutes\n",
      "Epoch: 193/999 | Loss: 0.0034 | Episodes: 50 | Win count: 85 | Win rate: 0.719 | time: 7.77 minutes\n",
      "Epoch: 194/999 | Loss: 0.0036 | Episodes: 144 | Win count: 85 | Win rate: 0.719 | time: 7.83 minutes\n",
      "Epoch: 195/999 | Loss: 0.0155 | Episodes: 156 | Win count: 86 | Win rate: 0.719 | time: 7.89 minutes\n",
      "Epoch: 196/999 | Loss: 0.0172 | Episodes: 1 | Win count: 87 | Win rate: 0.719 | time: 7.95 minutes\n",
      "Epoch: 197/999 | Loss: 0.0046 | Episodes: 146 | Win count: 87 | Win rate: 0.688 | time: 8.02 minutes\n",
      "Epoch: 198/999 | Loss: 0.0099 | Episodes: 1 | Win count: 88 | Win rate: 0.719 | time: 8.08 minutes\n",
      "Epoch: 199/999 | Loss: 0.0037 | Episodes: 25 | Win count: 89 | Win rate: 0.719 | time: 8.15 minutes\n",
      "Epoch: 200/999 | Loss: 0.0150 | Episodes: 29 | Win count: 90 | Win rate: 0.750 | time: 8.22 minutes\n",
      "Epoch: 201/999 | Loss: 0.0030 | Episodes: 158 | Win count: 91 | Win rate: 0.781 | time: 8.28 minutes\n",
      "Epoch: 202/999 | Loss: 0.0031 | Episodes: 13 | Win count: 92 | Win rate: 0.781 | time: 8.34 minutes\n",
      "Epoch: 203/999 | Loss: 0.0096 | Episodes: 59 | Win count: 93 | Win rate: 0.781 | time: 8.40 minutes\n",
      "Epoch: 204/999 | Loss: 0.0041 | Episodes: 50 | Win count: 94 | Win rate: 0.812 | time: 8.46 minutes\n",
      "Epoch: 205/999 | Loss: 0.0035 | Episodes: 17 | Win count: 95 | Win rate: 0.812 | time: 8.52 minutes\n",
      "Epoch: 206/999 | Loss: 0.0033 | Episodes: 17 | Win count: 96 | Win rate: 0.812 | time: 8.58 minutes\n",
      "Epoch: 207/999 | Loss: 0.0141 | Episodes: 25 | Win count: 97 | Win rate: 0.812 | time: 8.64 minutes\n",
      "Epoch: 208/999 | Loss: 0.0353 | Episodes: 129 | Win count: 98 | Win rate: 0.844 | time: 8.71 minutes\n",
      "Epoch: 209/999 | Loss: 0.0127 | Episodes: 108 | Win count: 99 | Win rate: 0.844 | time: 8.77 minutes\n",
      "Epoch: 210/999 | Loss: 0.0132 | Episodes: 50 | Win count: 100 | Win rate: 0.844 | time: 8.82 minutes\n",
      "Epoch: 211/999 | Loss: 0.0083 | Episodes: 47 | Win count: 101 | Win rate: 0.844 | time: 8.88 minutes\n",
      "Epoch: 212/999 | Loss: 0.0034 | Episodes: 116 | Win count: 102 | Win rate: 0.875 | time: 8.94 minutes\n",
      "Epoch: 213/999 | Loss: 0.0031 | Episodes: 130 | Win count: 102 | Win rate: 0.844 | time: 9.00 minutes\n",
      "Epoch: 214/999 | Loss: 0.0098 | Episodes: 35 | Win count: 103 | Win rate: 0.875 | time: 9.06 minutes\n",
      "Epoch: 215/999 | Loss: 0.0189 | Episodes: 130 | Win count: 103 | Win rate: 0.844 | time: 9.12 minutes\n",
      "Epoch: 216/999 | Loss: 0.0039 | Episodes: 135 | Win count: 103 | Win rate: 0.812 | time: 9.18 minutes\n",
      "Epoch: 217/999 | Loss: 0.0031 | Episodes: 136 | Win count: 103 | Win rate: 0.781 | time: 9.24 minutes\n",
      "Epoch: 218/999 | Loss: 0.0056 | Episodes: 17 | Win count: 104 | Win rate: 0.812 | time: 9.30 minutes\n",
      "Epoch: 219/999 | Loss: 0.0032 | Episodes: 19 | Win count: 105 | Win rate: 0.812 | time: 9.36 minutes\n",
      "Epoch: 220/999 | Loss: 0.0027 | Episodes: 135 | Win count: 105 | Win rate: 0.781 | time: 9.43 minutes\n",
      "Epoch: 221/999 | Loss: 0.0175 | Episodes: 133 | Win count: 105 | Win rate: 0.750 | time: 9.49 minutes\n",
      "Epoch: 222/999 | Loss: 0.0152 | Episodes: 130 | Win count: 105 | Win rate: 0.719 | time: 9.55 minutes\n",
      "Epoch: 223/999 | Loss: 0.0087 | Episodes: 133 | Win count: 105 | Win rate: 0.688 | time: 9.61 minutes\n",
      "Epoch: 224/999 | Loss: 0.0089 | Episodes: 22 | Win count: 106 | Win rate: 0.688 | time: 9.67 minutes\n",
      "Epoch: 225/999 | Loss: 0.0082 | Episodes: 134 | Win count: 106 | Win rate: 0.656 | time: 9.72 minutes\n",
      "Epoch: 226/999 | Loss: 0.0044 | Episodes: 135 | Win count: 106 | Win rate: 0.656 | time: 9.78 minutes\n",
      "Epoch: 227/999 | Loss: 0.0041 | Episodes: 131 | Win count: 106 | Win rate: 0.625 | time: 9.84 minutes\n",
      "Epoch: 228/999 | Loss: 0.0035 | Episodes: 13 | Win count: 107 | Win rate: 0.625 | time: 9.90 minutes\n",
      "Epoch: 229/999 | Loss: 0.0050 | Episodes: 21 | Win count: 108 | Win rate: 0.656 | time: 9.96 minutes\n",
      "Epoch: 230/999 | Loss: 0.0143 | Episodes: 26 | Win count: 109 | Win rate: 0.656 | time: 10.02 minutes\n",
      "Epoch: 231/999 | Loss: 0.0155 | Episodes: 56 | Win count: 110 | Win rate: 0.656 | time: 10.08 minutes\n",
      "Epoch: 232/999 | Loss: 0.0031 | Episodes: 9 | Win count: 111 | Win rate: 0.656 | time: 10.14 minutes\n",
      "Epoch: 233/999 | Loss: 0.0044 | Episodes: 25 | Win count: 112 | Win rate: 0.656 | time: 10.20 minutes\n",
      "Epoch: 234/999 | Loss: 0.0169 | Episodes: 19 | Win count: 113 | Win rate: 0.656 | time: 10.26 minutes\n",
      "Epoch: 235/999 | Loss: 0.0076 | Episodes: 4 | Win count: 114 | Win rate: 0.656 | time: 10.32 minutes\n",
      "Epoch: 236/999 | Loss: 0.0059 | Episodes: 23 | Win count: 115 | Win rate: 0.656 | time: 10.38 minutes\n",
      "Epoch: 237/999 | Loss: 0.0212 | Episodes: 52 | Win count: 116 | Win rate: 0.656 | time: 10.44 minutes\n",
      "Epoch: 238/999 | Loss: 0.0038 | Episodes: 33 | Win count: 117 | Win rate: 0.656 | time: 10.50 minutes\n",
      "Epoch: 239/999 | Loss: 0.0047 | Episodes: 4 | Win count: 118 | Win rate: 0.656 | time: 10.56 minutes\n",
      "Epoch: 240/999 | Loss: 0.0118 | Episodes: 8 | Win count: 119 | Win rate: 0.656 | time: 10.61 minutes\n",
      "Epoch: 241/999 | Loss: 0.0135 | Episodes: 13 | Win count: 120 | Win rate: 0.656 | time: 10.67 minutes\n",
      "Epoch: 242/999 | Loss: 0.0195 | Episodes: 1 | Win count: 121 | Win rate: 0.656 | time: 10.73 minutes\n",
      "Epoch: 243/999 | Loss: 0.0083 | Episodes: 28 | Win count: 122 | Win rate: 0.656 | time: 10.79 minutes\n",
      "Epoch: 244/999 | Loss: 0.0061 | Episodes: 26 | Win count: 123 | Win rate: 0.656 | time: 10.85 minutes\n"
     ]
    },
    {
     "name": "stdout",
     "output_type": "stream",
     "text": [
      "Epoch: 245/999 | Loss: 0.0097 | Episodes: 21 | Win count: 124 | Win rate: 0.688 | time: 10.91 minutes\n",
      "Epoch: 246/999 | Loss: 0.0043 | Episodes: 51 | Win count: 125 | Win rate: 0.688 | time: 10.97 minutes\n",
      "Epoch: 247/999 | Loss: 0.0073 | Episodes: 24 | Win count: 126 | Win rate: 0.719 | time: 11.03 minutes\n",
      "Epoch: 248/999 | Loss: 0.0170 | Episodes: 7 | Win count: 127 | Win rate: 0.750 | time: 11.09 minutes\n",
      "Epoch: 249/999 | Loss: 0.0036 | Episodes: 29 | Win count: 128 | Win rate: 0.781 | time: 11.15 minutes\n",
      "Epoch: 250/999 | Loss: 0.0041 | Episodes: 20 | Win count: 129 | Win rate: 0.781 | time: 11.21 minutes\n",
      "Epoch: 251/999 | Loss: 0.0032 | Episodes: 19 | Win count: 130 | Win rate: 0.781 | time: 11.27 minutes\n",
      "Epoch: 252/999 | Loss: 0.0113 | Episodes: 22 | Win count: 131 | Win rate: 0.812 | time: 11.33 minutes\n",
      "Epoch: 253/999 | Loss: 0.0030 | Episodes: 11 | Win count: 132 | Win rate: 0.844 | time: 11.39 minutes\n",
      "Epoch: 254/999 | Loss: 0.0029 | Episodes: 45 | Win count: 133 | Win rate: 0.875 | time: 11.45 minutes\n",
      "Epoch: 255/999 | Loss: 0.0022 | Episodes: 48 | Win count: 134 | Win rate: 0.906 | time: 11.51 minutes\n",
      "Epoch: 256/999 | Loss: 0.0108 | Episodes: 4 | Win count: 135 | Win rate: 0.906 | time: 11.57 minutes\n",
      "Epoch: 257/999 | Loss: 0.0022 | Episodes: 53 | Win count: 136 | Win rate: 0.938 | time: 11.62 minutes\n",
      "Epoch: 258/999 | Loss: 0.0057 | Episodes: 26 | Win count: 137 | Win rate: 0.969 | time: 11.68 minutes\n",
      "Epoch: 259/999 | Loss: 0.0033 | Episodes: 48 | Win count: 138 | Win rate: 1.000 | time: 11.74 minutes\n",
      "Epoch: 260/999 | Loss: 0.0056 | Episodes: 36 | Win count: 139 | Win rate: 1.000 | time: 11.80 minutes\n",
      "Epoch: 261/999 | Loss: 0.0018 | Episodes: 33 | Win count: 140 | Win rate: 1.000 | time: 11.86 minutes\n",
      "Epoch: 262/999 | Loss: 0.0026 | Episodes: 9 | Win count: 141 | Win rate: 1.000 | time: 11.92 minutes\n",
      "Epoch: 263/999 | Loss: 0.0045 | Episodes: 98 | Win count: 142 | Win rate: 1.000 | time: 11.99 minutes\n",
      "Training completed at epoch: 263\n",
      "\n",
      "Training Summary:\n",
      "Total Epochs: 264\n",
      "Final Win Rate: 100.0%\n",
      "Total Wins: 142\n",
      "Win Rate Progression:\n",
      "- First 25%: 27.3%\n",
      "- Last 25%: 83.3%\n",
      "Average Episodes per Epoch: 89.4\n",
      "Final Loss: 0.0045\n",
      "Final Epsilon: 0.100\n",
      "\n",
      "Final Training Statistics:\n",
      "Epochs Completed: 264/1000\n",
      "Memory Size: 8000\n",
      "Batch Size: 128\n",
      "Training Time: 12.01 minutes\n",
      "Final Win Rate: 100.0%\n",
      "Total Wins: 142\n",
      "Average Episodes per Epoch: 89.4\n",
      "Final Loss: 0.0045\n",
      "Final Epsilon: 0.100\n"
     ]
    },
    {
     "data": {
      "text/plain": [
       "720.480025"
      ]
     },
     "execution_count": 11,
     "metadata": {},
     "output_type": "execute_result"
    }
   ],
   "source": [
    "model = build_model(maze)\n",
    "qtrain(model, maze, epochs=1000, max_memory=8000, data_size=128)"
   ]
  },
  {
   "cell_type": "markdown",
   "metadata": {},
   "source": [
    "This cell will check to see if the model passes the completion check. Note: This could take several minutes."
   ]
  },
  {
   "cell_type": "code",
   "execution_count": 12,
   "metadata": {
    "scrolled": true
   },
   "outputs": [
    {
     "data": {
      "text/plain": [
       "<matplotlib.image.AxesImage at 0x195fc5f9408>"
      ]
     },
     "execution_count": 12,
     "metadata": {},
     "output_type": "execute_result"
    },
    {
     "data": {
      "image/png": "[encoded data removed]",
      "text/plain": [
       "<Figure size 432x288 with 1 Axes>"
      ]
     },
     "metadata": {
      "needs_background": "light"
     },
     "output_type": "display_data"
    }
   ],
   "source": [
    "completion_check(model, qmaze)\n",
    "show(qmaze)"
   ]
  },
  {
   "cell_type": "markdown",
   "metadata": {},
   "source": [
    "This cell will test your model for one game. It will start the pirate at the top-left corner and run play_game. The agent should find a path from the starting position to the target (treasure). The treasure is located in the bottom-right corner."
   ]
  },
  {
   "cell_type": "code",
   "execution_count": 13,
   "metadata": {},
   "outputs": [
    {
     "data": {
      "text/plain": [
       "<matplotlib.image.AxesImage at 0x195fc51cec8>"
      ]
     },
     "execution_count": 13,
     "metadata": {},
     "output_type": "execute_result"
    },
    {
     "data": {
      "image/png": "[encoded data removed]",
      "text/plain": [
       "<Figure size 432x288 with 1 Axes>"
      ]
     },
     "metadata": {
      "needs_background": "light"
     },
     "output_type": "display_data"
    }
   ],
   "source": [
    "pirate_start = (0, 0)\n",
    "play_game(model, qmaze, pirate_start)\n",
    "show(qmaze)"
   ]
  },
  {
   "cell_type": "markdown",
   "metadata": {},
   "source": [
    "## Save and Submit Your Work\n",
    "After you have finished creating the code for your notebook, save your work. Make sure that your notebook contains your name in the filename (e.g. Doe_Jane_ProjectTwo.ipynb). This will help your instructor access and grade your work easily. Download a copy of your IPYNB file and submit it to Brightspace. Refer to the Jupyter Notebook in Apporto Tutorial if you need help with these tasks."
   ]
  }
 ],
 "metadata": {
  "kernelspec": {
   "display_name": "Python 3",
   "language": "python",
   "name": "python3"
  },
  "language_info": {
   "codemirror_mode": {
    "name": "ipython",
    "version": 3
   },
   "file_extension": ".py",
   "mimetype": "text/x-python",
   "name": "python",
   "nbconvert_exporter": "python",
   "pygments_lexer": "ipython3",
   "version": "3.7.4"
  }
 },
 "nbformat": 4,
 "nbformat_minor": 2
}
